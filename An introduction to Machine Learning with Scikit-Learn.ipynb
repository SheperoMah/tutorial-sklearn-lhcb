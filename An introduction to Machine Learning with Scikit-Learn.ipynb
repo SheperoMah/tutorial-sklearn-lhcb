{
 "cells": [
  {
   "cell_type": "code",
   "execution_count": 31,
   "metadata": {
    "collapsed": true,
    "slideshow": {
     "slide_type": "skip"
    }
   },
   "outputs": [],
   "source": [
    "# Global imports and settings\n",
    "from __future__ import print_function\n",
    "from __future__ import division\n",
    "\n",
    "%matplotlib inline\n",
    "from matplotlib import pyplot as plt\n",
    "plt.rcParams[\"figure.figsize\"] = (6, 6)\n",
    "\n",
    "import numpy as np\n",
    "np.set_printoptions(precision=3)"
   ]
  },
  {
   "cell_type": "markdown",
   "metadata": {
    "slideshow": {
     "slide_type": "slide"
    }
   },
   "source": [
    "<center>\n",
    "    <img src=\"img/scikit-learn-logo.png\" width=\"40%\" />\n",
    "    <br />\n",
    "    <h1>An introduction to Machine Learning with Scikit-Learn</h1>\n",
    "    <br /><br />\n",
    "    Gilles Louppe (<a href=\"https://twitter.com/glouppe\">@glouppe</a>), April 23, 2015\n",
    "    <br /><br />\n",
    "    <a href=\"https://github.com/glouppe/tutorial-sklearn-lhcb\">https://github.com/glouppe/tutorial-sklearn-lhcb</a>\n",
    "</center>"
   ]
  },
  {
   "cell_type": "markdown",
   "metadata": {
    "slideshow": {
     "slide_type": "slide"
    }
   },
   "source": [
    "# About myself \n",
    "\n",
    "* PhD in machine learning, expertise in tree-based methods\n",
    "* Core developer of Scikit-Learn\n",
    "* Research Fellow working in GS-SIS, on graph and text mining problems\n",
    "* Open to collaborations"
   ]
  },
  {
   "cell_type": "markdown",
   "metadata": {
    "slideshow": {
     "slide_type": "slide"
    }
   },
   "source": [
    "# Outline\n",
    "\n",
    "* What is machine learning?\n",
    "* Scikit-Learn\n",
    "* Classifying events with tree-based methods\n",
    "* Model evaluation and selection\n",
    "* Ensemble methods\n",
    "* Model persistence\n",
    "* Going further"
   ]
  },
  {
   "cell_type": "markdown",
   "metadata": {
    "slideshow": {
     "slide_type": "slide"
    }
   },
   "source": [
    "# What is machine learning?\n",
    "\n",
    "Predict, understand or identify patterns in data from observations.\n",
    "\n",
    "Applications include: _Natural language processing, Computer vision, IR and advertisement, Robotics, Bioinformatics, __High Energy Physics__, ..._\n",
    "\n",
    "<center><img src=\"img/motivation.png\" width=\"70%\" /></center>"
   ]
  },
  {
   "cell_type": "markdown",
   "metadata": {
    "slideshow": {
     "slide_type": "slide"
    }
   },
   "source": [
    "# Scikit-Learn"
   ]
  },
  {
   "cell_type": "markdown",
   "metadata": {
    "slideshow": {
     "slide_type": "subslide"
    }
   },
   "source": [
    "## Overview\n",
    "\n",
    "* Machine learning library written in __Python__\n",
    "* __Simple and efficient__, for both experts and non-experts\n",
    "* Classical, __well-established machine learning algorithms__\n",
    "* Shipped with <a href=\"http://scikit-learn.org/dev/documentation.html\">documentation</a> and <a href=\"http://scikit-learn.org/dev/auto_examples/index.html\">examples</a>\n",
    "* __BSD 3 license__"
   ]
  },
  {
   "cell_type": "markdown",
   "metadata": {
    "slideshow": {
     "slide_type": "subslide"
    }
   },
   "source": [
    "## Community driven development\n",
    "\n",
    "- 10-15~ core developers (mostly researchers)\n",
    "- 250+ occasional contributors\n",
    "- __All working together__ on [GitHub](https://github.com/scikit-learn/scikit-learn)\n",
    "- Emphasis on __keeping the project maintainable__\n",
    "    - Style consistency\n",
    "    - Unit-test coverage\n",
    "    - Documentation and examples\n",
    "    - Code review"
   ]
  },
  {
   "cell_type": "markdown",
   "metadata": {
    "slideshow": {
     "slide_type": "subslide"
    }
   },
   "source": [
    "## Python stack for data analysis\n",
    "\n",
    "- The __open source__ Python ecosystem provides __a standalone, versatile and powerful scientific working environment__, including: [NumPy](http://numpy.org), [SciPy](http://scipy.org), [IPython](http://ipython.org), [Matplotlib](http://matplotlib.org), [Pandas](http://pandas.pydata.org/), _and many others..._\n",
    "- Core algorithms are implemented in low-level languages;\n",
    "- Scikit-Learn builds upon NumPy and SciPy and __complements__ this scientific environment with machine learning algorithms;\n",
    "- By design, Scikit-Learn is __non-intrusive__, easy to use and easy to combine with other libraries.\n",
    "\n",
    "<center> \n",
    "<img src=\"img/scikit-learn-logo.png\" style=\"max-width: 120px; display: inline\" />\n",
    "<img src=\"img/numpy-logo.png\" style=\"max-width: 120px; display: inline\" />\n",
    "<img src=\"img/scipy-logo.png\" style=\"max-width: 120px; display: inline\" />\n",
    "<img src=\"img/ipython-logo.jpg\" style=\"max-width: 120px; display: inline\" />\n",
    "<img src=\"img/matplotlib-logo.png\" style=\"max-width: 120px; display: inline\"/>\n",
    "<img src=\"img/pandas-logo.png\" style=\"max-width: 120px; display: inline\" />\n",
    "</center>"
   ]
  },
  {
   "cell_type": "markdown",
   "metadata": {
    "slideshow": {
     "slide_type": "subslide"
    }
   },
   "source": [
    "## Algorithms\n",
    "\n",
    "__Supervised learning:__\n",
    "\n",
    "* Linear models (Ridge, Lasso, Elastic Net, ...)\n",
    "* Ensemble methods (Random Forests, Bagging, GBRT, ...)\n",
    "* Support Vector Machines\n",
    "* Nearest neighbors\n",
    "* Neural networks (soon!)\n",
    "\n",
    "<center><img src=\"img/classifiers.png\" />\n",
    "<em>A comparison of (some of the) classifiers in Scikit-Learn</em></center><br />\n",
    "\n",
    "__Unsupervised learning:__\n",
    "\n",
    "* Clustering (KMeans, Ward, ...)\n",
    "* Matrix decomposition (PCA, ICA, ...)\n",
    "* Density estimation\n",
    "* Outlier detection\n",
    "\n",
    "__Model selection and evaluation:__\n",
    "\n",
    "* Cross-validation\n",
    "* Grid-search\n",
    "* Lots of metrics\n",
    "\n",
    "_... and many more!_ (See our [Reference](http://scikit-learn.org/stable/modules/classes.html))"
   ]
  },
  {
   "cell_type": "markdown",
   "metadata": {
    "slideshow": {
     "slide_type": "slide"
    }
   },
   "source": [
    "# Classifying events with tree-based methods"
   ]
  },
  {
   "cell_type": "markdown",
   "metadata": {
    "slideshow": {
     "slide_type": "subslide"
    }
   },
   "source": [
    "### Supervised learning framework"
   ]
  },
  {
   "cell_type": "code",
   "execution_count": null,
   "metadata": {
    "collapsed": true
   },
   "outputs": [],
   "source": []
  },
  {
   "cell_type": "markdown",
   "metadata": {
    "slideshow": {
     "slide_type": "subslide"
    }
   },
   "source": [
    "## Decision trees"
   ]
  },
  {
   "cell_type": "code",
   "execution_count": null,
   "metadata": {
    "collapsed": true
   },
   "outputs": [],
   "source": []
  },
  {
   "cell_type": "markdown",
   "metadata": {
    "slideshow": {
     "slide_type": "subslide"
    }
   },
   "source": [
    "### Loading data"
   ]
  },
  {
   "cell_type": "code",
   "execution_count": 2,
   "metadata": {
    "collapsed": false,
    "slideshow": {
     "slide_type": "-"
    }
   },
   "outputs": [],
   "source": [
    "# Download data from https://archive.ics.uci.edu/ml/datasets/SUSY\n",
    "\n",
    "# Load CSV file with pandas\n",
    "import pandas as pd \n",
    "df = pd.read_csv(\"SUSY.csv\", header=None)     \n",
    "df.columns = [\"target\", \"lepton 1 pT\", \"lepton 1 eta\", \"lepton 1 phi\", \n",
    "              \"lepton 2 pT\", \"lepton 2 eta\", \"lepton 2 phi\", \n",
    "              \"missing energy magnitude\", \"missing energy phi\", \"MET_rel\", \n",
    "              \"axial MET\", \"M_R\", \"M_TR_2\", \"R\", \"MT2\", \"S_R\", \"M_Delta_R\", \n",
    "              \"dPhi_r_b\", \"cos(theta_r1)\"]\n",
    "df.target = df.target.astype(int)"
   ]
  },
  {
   "cell_type": "markdown",
   "metadata": {
    "slideshow": {
     "slide_type": "subslide"
    }
   },
   "source": [
    "### Exploration and visualization with `pandas`"
   ]
  },
  {
   "cell_type": "code",
   "execution_count": 22,
   "metadata": {
    "collapsed": false
   },
   "outputs": [
    {
     "data": {
      "text/html": [
       "<div style=\"max-height:1000px;max-width:1500px;overflow:auto;\">\n",
       "<table border=\"1\" class=\"dataframe\">\n",
       "  <thead>\n",
       "    <tr style=\"text-align: right;\">\n",
       "      <th></th>\n",
       "      <th>target</th>\n",
       "      <th>lepton 1 pT</th>\n",
       "      <th>lepton 1 eta</th>\n",
       "      <th>lepton 1 phi</th>\n",
       "      <th>lepton 2 pT</th>\n",
       "      <th>lepton 2 eta</th>\n",
       "      <th>lepton 2 phi</th>\n",
       "      <th>missing energy magnitude</th>\n",
       "      <th>missing energy phi</th>\n",
       "      <th>MET_rel</th>\n",
       "      <th>axial MET</th>\n",
       "      <th>M_R</th>\n",
       "      <th>M_TR_2</th>\n",
       "      <th>R</th>\n",
       "      <th>MT2</th>\n",
       "      <th>S_R</th>\n",
       "      <th>M_Delta_R</th>\n",
       "      <th>dPhi_r_b</th>\n",
       "      <th>cos(theta_r1)</th>\n",
       "    </tr>\n",
       "  </thead>\n",
       "  <tbody>\n",
       "    <tr>\n",
       "      <th>0</th>\n",
       "      <td> 0</td>\n",
       "      <td> 0.972861</td>\n",
       "      <td> 0.653855</td>\n",
       "      <td> 1.176225</td>\n",
       "      <td> 1.157156</td>\n",
       "      <td>-1.739873</td>\n",
       "      <td>-0.874309</td>\n",
       "      <td> 0.567765</td>\n",
       "      <td>-0.175000</td>\n",
       "      <td> 0.810061</td>\n",
       "      <td>-0.252552</td>\n",
       "      <td> 1.921887</td>\n",
       "      <td> 0.889637</td>\n",
       "      <td> 0.410772</td>\n",
       "      <td> 1.145621</td>\n",
       "      <td> 1.932632</td>\n",
       "      <td> 0.994464</td>\n",
       "      <td> 1.367815</td>\n",
       "      <td> 0.040714</td>\n",
       "    </tr>\n",
       "    <tr>\n",
       "      <th>1</th>\n",
       "      <td> 1</td>\n",
       "      <td> 1.667973</td>\n",
       "      <td> 0.064191</td>\n",
       "      <td>-1.225171</td>\n",
       "      <td> 0.506102</td>\n",
       "      <td>-0.338939</td>\n",
       "      <td> 1.672543</td>\n",
       "      <td> 3.475464</td>\n",
       "      <td>-1.219136</td>\n",
       "      <td> 0.012955</td>\n",
       "      <td> 3.775174</td>\n",
       "      <td> 1.045977</td>\n",
       "      <td> 0.568051</td>\n",
       "      <td> 0.481928</td>\n",
       "      <td> 0.000000</td>\n",
       "      <td> 0.448410</td>\n",
       "      <td> 0.205356</td>\n",
       "      <td> 1.321893</td>\n",
       "      <td> 0.377584</td>\n",
       "    </tr>\n",
       "    <tr>\n",
       "      <th>2</th>\n",
       "      <td> 1</td>\n",
       "      <td> 0.444840</td>\n",
       "      <td>-0.134298</td>\n",
       "      <td>-0.709972</td>\n",
       "      <td> 0.451719</td>\n",
       "      <td>-1.613871</td>\n",
       "      <td>-0.768661</td>\n",
       "      <td> 1.219918</td>\n",
       "      <td> 0.504026</td>\n",
       "      <td> 1.831248</td>\n",
       "      <td>-0.431385</td>\n",
       "      <td> 0.526283</td>\n",
       "      <td> 0.941514</td>\n",
       "      <td> 1.587535</td>\n",
       "      <td> 2.024308</td>\n",
       "      <td> 0.603498</td>\n",
       "      <td> 1.562374</td>\n",
       "      <td> 1.135454</td>\n",
       "      <td> 0.180910</td>\n",
       "    </tr>\n",
       "    <tr>\n",
       "      <th>3</th>\n",
       "      <td> 1</td>\n",
       "      <td> 0.381256</td>\n",
       "      <td>-0.976145</td>\n",
       "      <td> 0.693152</td>\n",
       "      <td> 0.448959</td>\n",
       "      <td> 0.891753</td>\n",
       "      <td>-0.677328</td>\n",
       "      <td> 2.033060</td>\n",
       "      <td> 1.533041</td>\n",
       "      <td> 3.046260</td>\n",
       "      <td>-1.005285</td>\n",
       "      <td> 0.569386</td>\n",
       "      <td> 1.015211</td>\n",
       "      <td> 1.582217</td>\n",
       "      <td> 1.551914</td>\n",
       "      <td> 0.761215</td>\n",
       "      <td> 1.715464</td>\n",
       "      <td> 1.492257</td>\n",
       "      <td> 0.090719</td>\n",
       "    </tr>\n",
       "    <tr>\n",
       "      <th>4</th>\n",
       "      <td> 1</td>\n",
       "      <td> 1.309996</td>\n",
       "      <td>-0.690089</td>\n",
       "      <td>-0.676259</td>\n",
       "      <td> 1.589283</td>\n",
       "      <td>-0.693326</td>\n",
       "      <td> 0.622907</td>\n",
       "      <td> 1.087562</td>\n",
       "      <td>-0.381742</td>\n",
       "      <td> 0.589204</td>\n",
       "      <td> 1.365479</td>\n",
       "      <td> 1.179295</td>\n",
       "      <td> 0.968218</td>\n",
       "      <td> 0.728563</td>\n",
       "      <td> 0.000000</td>\n",
       "      <td> 1.083158</td>\n",
       "      <td> 0.043429</td>\n",
       "      <td> 1.154854</td>\n",
       "      <td> 0.094859</td>\n",
       "    </tr>\n",
       "  </tbody>\n",
       "</table>\n",
       "</div>"
      ],
      "text/plain": [
       "   target  lepton 1 pT  lepton 1 eta  lepton 1 phi  lepton 2 pT  lepton 2 eta  \\\n",
       "0       0     0.972861      0.653855      1.176225     1.157156     -1.739873   \n",
       "1       1     1.667973      0.064191     -1.225171     0.506102     -0.338939   \n",
       "2       1     0.444840     -0.134298     -0.709972     0.451719     -1.613871   \n",
       "3       1     0.381256     -0.976145      0.693152     0.448959      0.891753   \n",
       "4       1     1.309996     -0.690089     -0.676259     1.589283     -0.693326   \n",
       "\n",
       "   lepton 2 phi  missing energy magnitude  missing energy phi   MET_rel  \\\n",
       "0     -0.874309                  0.567765           -0.175000  0.810061   \n",
       "1      1.672543                  3.475464           -1.219136  0.012955   \n",
       "2     -0.768661                  1.219918            0.504026  1.831248   \n",
       "3     -0.677328                  2.033060            1.533041  3.046260   \n",
       "4      0.622907                  1.087562           -0.381742  0.589204   \n",
       "\n",
       "   axial MET       M_R    M_TR_2         R       MT2       S_R  M_Delta_R  \\\n",
       "0  -0.252552  1.921887  0.889637  0.410772  1.145621  1.932632   0.994464   \n",
       "1   3.775174  1.045977  0.568051  0.481928  0.000000  0.448410   0.205356   \n",
       "2  -0.431385  0.526283  0.941514  1.587535  2.024308  0.603498   1.562374   \n",
       "3  -1.005285  0.569386  1.015211  1.582217  1.551914  0.761215   1.715464   \n",
       "4   1.365479  1.179295  0.968218  0.728563  0.000000  1.083158   0.043429   \n",
       "\n",
       "   dPhi_r_b  cos(theta_r1)  \n",
       "0  1.367815       0.040714  \n",
       "1  1.321893       0.377584  \n",
       "2  1.135454       0.180910  \n",
       "3  1.492257       0.090719  \n",
       "4  1.154854       0.094859  "
      ]
     },
     "execution_count": 22,
     "metadata": {},
     "output_type": "execute_result"
    }
   ],
   "source": [
    "df.head()  # df.describe(), df.info(), ..."
   ]
  },
  {
   "cell_type": "code",
   "execution_count": 73,
   "metadata": {
    "collapsed": false,
    "slideshow": {
     "slide_type": "subslide"
    }
   },
   "outputs": [
    {
     "data": {
      "image/png": "[encoded data removed]",
      "text/plain": [
       "<matplotlib.figure.Figure at 0x7fe534942b50>"
      ]
     },
     "metadata": {},
     "output_type": "display_data"
    }
   ],
   "source": [
    "df_sample = df[:10000]\n",
    "colors = [\"blue\",  # 0 = background\n",
    "          \"red\"]   # 1 = signal\n",
    "features = [\"lepton 1 pT\", \"lepton 1 eta\", \"missing energy magnitude\", \"R\"]\n",
    "\n",
    "_ = pd.scatter_matrix(df_sample[features], marker=\"x\", \n",
    "                      c=df_sample.target.apply(lambda x: colors[x]))"
   ]
  },
  {
   "cell_type": "markdown",
   "metadata": {},
   "source": [
    "Need more? See `pandas` <a href=\"http://pandas.pydata.org/pandas-docs/stable/visualization.html\">visualization</a> documentation."
   ]
  },
  {
   "cell_type": "markdown",
   "metadata": {
    "slideshow": {
     "slide_type": "subslide"
    }
   },
   "source": [
    "### Data format in scikit-learn\n",
    "\n",
    "All scikit-learn objects takes as input __data which is structured as Numpy arrays or sparse matrices__. \n",
    "\n",
    "TODO: motivate this choice"
   ]
  },
  {
   "cell_type": "code",
   "execution_count": 71,
   "metadata": {
    "collapsed": false
   },
   "outputs": [
    {
     "name": "stdout",
     "output_type": "stream",
     "text": [
      "[[ 0.973  0.654  1.176  1.157 -1.74  -0.874  0.568 -0.175  0.81  -0.253\n",
      "   1.922  0.89   0.411  1.146  1.933  0.994  1.368  0.041]\n",
      " [ 1.668  0.064 -1.225  0.506 -0.339  1.673  3.475 -1.219  0.013  3.775\n",
      "   1.046  0.568  0.482  0.     0.448  0.205  1.322  0.378]\n",
      " [ 0.445 -0.134 -0.71   0.452 -1.614 -0.769  1.22   0.504  1.831 -0.431\n",
      "   0.526  0.942  1.588  2.024  0.603  1.562  1.135  0.181]]\n",
      "(10000, 18)\n",
      "float64\n"
     ]
    }
   ],
   "source": [
    "# Get data as Numpy arrays from the pandas data frame\n",
    "X = df_sample.drop(\"target\", axis=1).values\n",
    "y = df_sample.target.values\n",
    "\n",
    "print(X[:3])\n",
    "print(X.shape)\n",
    "print(X.dtype)"
   ]
  },
  {
   "cell_type": "markdown",
   "metadata": {
    "slideshow": {
     "slide_type": "subslide"
    }
   },
   "source": [
    "### A simple and unified API\n",
    "\n",
    "All objects in scikit-learn share a uniform and limited API consisting of three complementary interfaces:\n",
    "\n",
    "- an `estimator` interface for building and fitting models;\n",
    "- a `predictor` interface for making predictions;\n",
    "- a `transformer` interface for converting data."
   ]
  },
  {
   "cell_type": "markdown",
   "metadata": {
    "slideshow": {
     "slide_type": "subslide"
    }
   },
   "source": [
    "### Estimators\n",
    "\n",
    "An estimator is any object that learns from data; it may be a classification, regression or clustering algorithm or a transformer that extracts/filters useful features from raw data."
   ]
  },
  {
   "cell_type": "code",
   "execution_count": 40,
   "metadata": {
    "collapsed": true
   },
   "outputs": [],
   "source": [
    "class Estimator(object):\n",
    "    def fit(self, X, y=None):\n",
    "        \"\"\"Fits estimator to data.\"\"\"\n",
    "        # set state of ``self``\n",
    "        return self\n",
    "            \n",
    "    def predict(self, X):\n",
    "        \"\"\"Predict response of ``X``.\"\"\"\n",
    "        # compute predictions ``pred``\n",
    "        return pred"
   ]
  },
  {
   "cell_type": "code",
   "execution_count": 58,
   "metadata": {
    "collapsed": false,
    "slideshow": {
     "slide_type": "subslide"
    }
   },
   "outputs": [
    {
     "data": {
      "text/plain": [
       "DecisionTreeClassifier(class_weight=None, criterion='entropy', max_depth=5,\n",
       "            max_features=None, max_leaf_nodes=None, min_samples_leaf=1,\n",
       "            min_samples_split=2, min_weight_fraction_leaf=0.0,\n",
       "            random_state=None, splitter='best')"
      ]
     },
     "execution_count": 58,
     "metadata": {},
     "output_type": "execute_result"
    }
   ],
   "source": [
    "# Import estimator class \n",
    "from sklearn.tree import DecisionTreeClassifier\n",
    "\n",
    "# Set hyper-parameters, for controlling the learning algorithm\n",
    "clf = DecisionTreeClassifier(max_depth=5, criterion=\"entropy\")\n",
    "\n",
    "# Learn a model from training data\n",
    "clf.fit(X, y)"
   ]
  },
  {
   "cell_type": "code",
   "execution_count": 65,
   "metadata": {
    "collapsed": false
   },
   "outputs": [
    {
     "data": {
      "text/plain": [
       "<sklearn.tree._tree.Tree at 0x7fe5346e4ed0>"
      ]
     },
     "execution_count": 65,
     "metadata": {},
     "output_type": "execute_result"
    }
   ],
   "source": [
    "# Estimator state is stored in instance attributes\n",
    "clf.tree_"
   ]
  },
  {
   "cell_type": "markdown",
   "metadata": {
    "slideshow": {
     "slide_type": "subslide"
    }
   },
   "source": [
    "### Predictors"
   ]
  },
  {
   "cell_type": "code",
   "execution_count": 59,
   "metadata": {
    "collapsed": false
   },
   "outputs": [
    {
     "name": "stdout",
     "output_type": "stream",
     "text": [
      "[0 1 0]\n"
     ]
    }
   ],
   "source": [
    "# Make predictions \n",
    "print(clf.predict(X[:3]))"
   ]
  },
  {
   "cell_type": "code",
   "execution_count": 60,
   "metadata": {
    "collapsed": false
   },
   "outputs": [
    {
     "name": "stdout",
     "output_type": "stream",
     "text": [
      "[[ 0.657  0.343]\n",
      " [ 0.     1.   ]\n",
      " [ 0.778  0.222]]\n"
     ]
    }
   ],
   "source": [
    "# Compute class probabilities\n",
    "print(clf.predict_proba(X[:3]))"
   ]
  },
  {
   "cell_type": "markdown",
   "metadata": {
    "slideshow": {
     "slide_type": "slide"
    }
   },
   "source": [
    "# Model evaluation and selection"
   ]
  },
  {
   "cell_type": "markdown",
   "metadata": {
    "slideshow": {
     "slide_type": "subslide"
    }
   },
   "source": [
    "## Selection versus evaluation"
   ]
  },
  {
   "cell_type": "code",
   "execution_count": null,
   "metadata": {
    "collapsed": true
   },
   "outputs": [],
   "source": []
  },
  {
   "cell_type": "markdown",
   "metadata": {
    "slideshow": {
     "slide_type": "fragment"
    }
   },
   "source": [
    "## Cross-validation"
   ]
  },
  {
   "cell_type": "code",
   "execution_count": null,
   "metadata": {
    "collapsed": true
   },
   "outputs": [],
   "source": []
  },
  {
   "cell_type": "markdown",
   "metadata": {
    "slideshow": {
     "slide_type": "subslide"
    }
   },
   "source": [
    "## Parameter search"
   ]
  },
  {
   "cell_type": "code",
   "execution_count": null,
   "metadata": {
    "collapsed": true
   },
   "outputs": [],
   "source": []
  },
  {
   "cell_type": "markdown",
   "metadata": {
    "slideshow": {
     "slide_type": "subslide"
    }
   },
   "source": [
    "## Under/over-fitting\n",
    "\n",
    "- plot\n",
    "- regularization"
   ]
  },
  {
   "cell_type": "markdown",
   "metadata": {
    "slideshow": {
     "slide_type": "slide"
    }
   },
   "source": [
    "# Ensemble methods"
   ]
  },
  {
   "cell_type": "markdown",
   "metadata": {
    "slideshow": {
     "slide_type": "subslide"
    }
   },
   "source": [
    "## Random Forests"
   ]
  },
  {
   "cell_type": "code",
   "execution_count": null,
   "metadata": {
    "collapsed": true
   },
   "outputs": [],
   "source": []
  },
  {
   "cell_type": "markdown",
   "metadata": {
    "slideshow": {
     "slide_type": "subslide"
    }
   },
   "source": [
    "## Boosting"
   ]
  },
  {
   "cell_type": "code",
   "execution_count": null,
   "metadata": {
    "collapsed": true
   },
   "outputs": [],
   "source": []
  },
  {
   "cell_type": "markdown",
   "metadata": {
    "slideshow": {
     "slide_type": "subslide"
    }
   },
   "source": [
    "## Interpretation\n",
    "\n",
    "- var importances\n",
    "- partial dependence plots"
   ]
  },
  {
   "cell_type": "markdown",
   "metadata": {
    "slideshow": {
     "slide_type": "slide"
    }
   },
   "source": [
    "# Model persistence"
   ]
  },
  {
   "cell_type": "markdown",
   "metadata": {
    "slideshow": {
     "slide_type": "slide"
    }
   },
   "source": [
    "# Going further\n",
    "\n",
    "- Add references to tutorials, packages, etc"
   ]
  }
 ],
 "metadata": {
  "celltoolbar": "Slideshow",
  "kernelspec": {
   "display_name": "Python 2",
   "language": "python",
   "name": "python2"
  },
  "language_info": {
   "codemirror_mode": {
    "name": "ipython",
    "version": 2
   },
   "file_extension": ".py",
   "mimetype": "text/x-python",
   "name": "python",
   "nbconvert_exporter": "python",
   "pygments_lexer": "ipython2",
   "version": "2.7.9"
  }
 },
 "nbformat": 4,
 "nbformat_minor": 0
}
