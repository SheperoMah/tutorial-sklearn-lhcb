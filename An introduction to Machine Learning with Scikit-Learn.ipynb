{
 "cells": [
  {
   "cell_type": "code",
   "execution_count": 1,
   "metadata": {
    "collapsed": true,
    "slideshow": {
     "slide_type": "skip"
    }
   },
   "outputs": [],
   "source": [
    "# Global imports and settings\n",
    "from __future__ import print_function\n",
    "from __future__ import division\n",
    "\n",
    "%matplotlib inline\n",
    "from matplotlib import pyplot as plt\n",
    "plt.rcParams[\"figure.figsize\"] = (6, 6)"
   ]
  },
  {
   "cell_type": "markdown",
   "metadata": {
    "slideshow": {
     "slide_type": "slide"
    }
   },
   "source": [
    "<center>\n",
    "    <img src=\"img/scikit-learn-logo.png\" width=\"40%\" />\n",
    "    <br />\n",
    "    <h1>An introduction to Machine Learning with Scikit-Learn</h1>\n",
    "    <br /><br />\n",
    "    Gilles Louppe (<a href=\"https://twitter.com/glouppe\">@glouppe</a>), April 23, 2015\n",
    "    <br /><br />\n",
    "    <a href=\"https://github.com/glouppe/tutorial-sklearn-lhcb\">https://github.com/glouppe/tutorial-sklearn-lhcb</a>\n",
    "</center>"
   ]
  },
  {
   "cell_type": "markdown",
   "metadata": {
    "slideshow": {
     "slide_type": "slide"
    }
   },
   "source": [
    "# About myself \n",
    "\n",
    "* PhD in machine learning, expertise in tree-based methods\n",
    "* Core developer of Scikit-Learn\n",
    "* Research Fellow working in GS-SIS, on graph and text mining problems\n",
    "* Open to collaborations"
   ]
  },
  {
   "cell_type": "markdown",
   "metadata": {
    "slideshow": {
     "slide_type": "slide"
    }
   },
   "source": [
    "# Outline\n",
    "\n",
    "* What is machine learning?\n",
    "* Scikit-Learn\n",
    "* Classifying events\n",
    "* Model evaluation and selection\n",
    "* Persistence and deployment\n",
    "* Unsupervised learning"
   ]
  },
  {
   "cell_type": "markdown",
   "metadata": {
    "slideshow": {
     "slide_type": "slide"
    }
   },
   "source": [
    "# What is machine learning?\n",
    "\n",
    "Predict, understand or identify patterns in data from observations.\n",
    "\n",
    "Applications include: _Natural language processing, Computer vision, IR and advertisement, Robotics, Bioinformatics, __High Energy Physics__, ..._\n",
    "\n",
    "<center><img src=\"img/motivation.png\" width=\"80%\" /></center>"
   ]
  },
  {
   "cell_type": "markdown",
   "metadata": {
    "slideshow": {
     "slide_type": "slide"
    }
   },
   "source": [
    "# Scikit-Learn"
   ]
  },
  {
   "cell_type": "markdown",
   "metadata": {
    "slideshow": {
     "slide_type": "subslide"
    }
   },
   "source": [
    "## Overview\n",
    "\n",
    "* Machine learning library written in __Python__\n",
    "* __Simple and efficient__, for both experts and non-experts\n",
    "* Classical, __well-established machine learning algorithms__\n",
    "* __BSD 3 license__\n",
    "\n",
    "Note: emphasize that sklearn is not research code\n",
    "Note: mention documentation + examples"
   ]
  },
  {
   "cell_type": "markdown",
   "metadata": {
    "slideshow": {
     "slide_type": "subslide"
    }
   },
   "source": [
    "## Community driven development\n",
    "\n",
    "- 10-15~ core developers (mostly researchers)\n",
    "- 250+ occasional contributors\n",
    "- __All working together__ on [GitHub](https://github.com/scikit-learn/scikit-learn)\n",
    "- Emphasis on __keeping the project maintainable__\n",
    "    - Style consistency\n",
    "    - Unit-test coverage\n",
    "    - Documentation and examples\n",
    "    - Code review"
   ]
  },
  {
   "cell_type": "markdown",
   "metadata": {
    "slideshow": {
     "slide_type": "subslide"
    }
   },
   "source": [
    "## Python stack for data analysis\n",
    "\n",
    "- The __open source__ Python ecosystem provides __a standalone, versatile and powerful scientific working environment__, including: [NumPy](http://numpy.org), [SciPy](http://scipy.org), [IPython](http://ipython.org), [Matplotlib](http://matplotlib.org), [Pandas](http://pandas.pydata.org/), _and many others..._\n",
    "- Scikit-Learn builds upon NumPy and SciPy and __complements__ this scientific environment with machine learning algorithms;\n",
    "- By design, Scikit-Learn is __non-intrusive__, easy to use and easy to combine with other libraries.\n",
    "\n",
    "<center> \n",
    "<img src=\"img/scikit-learn-logo.png\" style=\"max-width: 120px; display: inline\" />\n",
    "<img src=\"img/numpy-logo.png\" style=\"max-width: 120px; display: inline\" />\n",
    "<img src=\"img/scipy-logo.png\" style=\"max-width: 120px; display: inline\" />\n",
    "<img src=\"img/ipython-logo.jpg\" style=\"max-width: 120px; display: inline\" />\n",
    "<img src=\"img/matplotlib-logo.png\" style=\"max-width: 120px; display: inline\"/>\n",
    "<img src=\"img/pandas-logo.png\" style=\"max-width: 120px; display: inline\" />\n",
    "</center>\n",
    "\n",
    "Note: talk about speed"
   ]
  },
  {
   "cell_type": "markdown",
   "metadata": {
    "slideshow": {
     "slide_type": "subslide"
    }
   },
   "source": [
    "## A simple and unified API\n",
    "\n",
    "All objects in scikit-learn share a uniform and limited API consisting of three complementary interfaces:\n",
    "\n",
    "- an `estimator` interface for building and fitting models;\n",
    "- a `predictor` interface for making predictions;\n",
    "- a `transformer` interface for converting data.\n",
    "\n",
    "All of them takes as input __data which is structured as Numpy arrays or sparse matrices__. "
   ]
  },
  {
   "cell_type": "markdown",
   "metadata": {
    "slideshow": {
     "slide_type": "slide"
    }
   },
   "source": [
    "# Classifying events"
   ]
  },
  {
   "cell_type": "markdown",
   "metadata": {
    "slideshow": {
     "slide_type": "subslide"
    }
   },
   "source": [
    "### Loading data"
   ]
  },
  {
   "cell_type": "code",
   "execution_count": 2,
   "metadata": {
    "collapsed": false,
    "slideshow": {
     "slide_type": "-"
    }
   },
   "outputs": [],
   "source": [
    "# Download data from https://archive.ics.uci.edu/ml/datasets/SUSY\n",
    "\n",
    "# Load CSV file with pandas\n",
    "import pandas as pd \n",
    "df = pd.read_csv(\"SUSY.csv\", header=None)     \n",
    "df.columns = [\"target\", \"lepton 1 pT\", \"lepton 1 eta\", \"lepton 1 phi\", \n",
    "              \"lepton 2 pT\", \"lepton 2 eta\", \"lepton 2 phi\", \n",
    "              \"missing energy magnitude\", \"missing energy phi\", \"MET_rel\", \n",
    "              \"axial MET\", \"M_R\", \"M_TR_2\", \"R\", \"MT2\", \"S_R\", \"M_Delta_R\", \n",
    "              \"dPhi_r_b\", \"cos(theta_r1)\"]\n",
    "df.target = df.target.astype(int)               "
   ]
  },
  {
   "cell_type": "markdown",
   "metadata": {
    "slideshow": {
     "slide_type": "subslide"
    }
   },
   "source": [
    "### Exploration and visualization with `pandas`"
   ]
  },
  {
   "cell_type": "code",
   "execution_count": 3,
   "metadata": {
    "collapsed": false
   },
   "outputs": [
    {
     "data": {
      "text/html": [
       "<div style=\"max-height:1000px;max-width:1500px;overflow:auto;\">\n",
       "<table border=\"1\" class=\"dataframe\">\n",
       "  <thead>\n",
       "    <tr style=\"text-align: right;\">\n",
       "      <th></th>\n",
       "      <th>target</th>\n",
       "      <th>lepton 1 pT</th>\n",
       "      <th>lepton 1 eta</th>\n",
       "      <th>lepton 1 phi</th>\n",
       "      <th>lepton 2 pT</th>\n",
       "      <th>lepton 2 eta</th>\n",
       "      <th>lepton 2 phi</th>\n",
       "      <th>missing energy magnitude</th>\n",
       "      <th>missing energy phi</th>\n",
       "      <th>MET_rel</th>\n",
       "      <th>axial MET</th>\n",
       "      <th>M_R</th>\n",
       "      <th>M_TR_2</th>\n",
       "      <th>R</th>\n",
       "      <th>MT2</th>\n",
       "      <th>S_R</th>\n",
       "      <th>M_Delta_R</th>\n",
       "      <th>dPhi_r_b</th>\n",
       "      <th>cos(theta_r1)</th>\n",
       "    </tr>\n",
       "  </thead>\n",
       "  <tbody>\n",
       "    <tr>\n",
       "      <th>count</th>\n",
       "      <td> 5000000.000000</td>\n",
       "      <td> 5000000.000000</td>\n",
       "      <td> 5000000.000000</td>\n",
       "      <td> 5000000.000000</td>\n",
       "      <td> 5000000.000000</td>\n",
       "      <td> 5000000.000000</td>\n",
       "      <td> 5000000.000000</td>\n",
       "      <td> 5000000.000000</td>\n",
       "      <td> 5000000.000000</td>\n",
       "      <td> 5.000000e+06</td>\n",
       "      <td> 5000000.000000</td>\n",
       "      <td> 5000000.000000</td>\n",
       "      <td> 5000000.000000</td>\n",
       "      <td> 5000000.000000</td>\n",
       "      <td> 5000000.000000</td>\n",
       "      <td> 5000000.000000</td>\n",
       "      <td> 5000000.000000</td>\n",
       "      <td> 5000000.000000</td>\n",
       "      <td> 5.000000e+06</td>\n",
       "    </tr>\n",
       "    <tr>\n",
       "      <th>mean</th>\n",
       "      <td>       0.457565</td>\n",
       "      <td>       1.000318</td>\n",
       "      <td>       0.000022</td>\n",
       "      <td>      -0.000050</td>\n",
       "      <td>       0.999430</td>\n",
       "      <td>      -0.000037</td>\n",
       "      <td>      -0.000020</td>\n",
       "      <td>       0.999974</td>\n",
       "      <td>       0.000035</td>\n",
       "      <td> 1.001437e+00</td>\n",
       "      <td>      -0.000049</td>\n",
       "      <td>       1.000360</td>\n",
       "      <td>       0.999956</td>\n",
       "      <td>       0.999916</td>\n",
       "      <td>       1.000422</td>\n",
       "      <td>       1.000112</td>\n",
       "      <td>       1.000192</td>\n",
       "      <td>       0.999485</td>\n",
       "      <td> 2.249139e-01</td>\n",
       "    </tr>\n",
       "    <tr>\n",
       "      <th>std</th>\n",
       "      <td>       0.498196</td>\n",
       "      <td>       0.687334</td>\n",
       "      <td>       1.003107</td>\n",
       "      <td>       1.001670</td>\n",
       "      <td>       0.654220</td>\n",
       "      <td>       1.002839</td>\n",
       "      <td>       1.001631</td>\n",
       "      <td>       0.872888</td>\n",
       "      <td>       1.001654</td>\n",
       "      <td> 8.901668e-01</td>\n",
       "      <td>       1.001594</td>\n",
       "      <td>       0.628845</td>\n",
       "      <td>       0.584114</td>\n",
       "      <td>       0.470841</td>\n",
       "      <td>       0.859249</td>\n",
       "      <td>       0.620716</td>\n",
       "      <td>       0.623767</td>\n",
       "      <td>       0.436095</td>\n",
       "      <td> 1.969804e-01</td>\n",
       "    </tr>\n",
       "    <tr>\n",
       "      <th>min</th>\n",
       "      <td>       0.000000</td>\n",
       "      <td>       0.254882</td>\n",
       "      <td>      -2.102927</td>\n",
       "      <td>      -1.734789</td>\n",
       "      <td>       0.428586</td>\n",
       "      <td>      -2.059306</td>\n",
       "      <td>      -1.734202</td>\n",
       "      <td>       0.000260</td>\n",
       "      <td>      -1.727117</td>\n",
       "      <td> 7.693475e-08</td>\n",
       "      <td>     -16.718634</td>\n",
       "      <td>       0.267307</td>\n",
       "      <td>       0.001041</td>\n",
       "      <td>       0.002048</td>\n",
       "      <td>       0.000000</td>\n",
       "      <td>       0.027341</td>\n",
       "      <td>       0.004453</td>\n",
       "      <td>       0.000000</td>\n",
       "      <td> 4.172130e-08</td>\n",
       "    </tr>\n",
       "    <tr>\n",
       "      <th>25%</th>\n",
       "      <td>       0.000000</td>\n",
       "      <td>       0.562484</td>\n",
       "      <td>      -0.757351</td>\n",
       "      <td>      -0.867357</td>\n",
       "      <td>       0.596988</td>\n",
       "      <td>      -0.769592</td>\n",
       "      <td>      -0.868374</td>\n",
       "      <td>       0.478455</td>\n",
       "      <td>      -0.866151</td>\n",
       "      <td> 3.691849e-01</td>\n",
       "      <td>      -0.492398</td>\n",
       "      <td>       0.588329</td>\n",
       "      <td>       0.622341</td>\n",
       "      <td>       0.650544</td>\n",
       "      <td>       0.170522</td>\n",
       "      <td>       0.598521</td>\n",
       "      <td>       0.513439</td>\n",
       "      <td>       0.687913</td>\n",
       "      <td> 6.908188e-02</td>\n",
       "    </tr>\n",
       "    <tr>\n",
       "      <th>50%</th>\n",
       "      <td>       0.000000</td>\n",
       "      <td>       0.791551</td>\n",
       "      <td>       0.000134</td>\n",
       "      <td>      -0.000388</td>\n",
       "      <td>       0.799799</td>\n",
       "      <td>      -0.000379</td>\n",
       "      <td>       0.000201</td>\n",
       "      <td>       0.773836</td>\n",
       "      <td>      -0.009173</td>\n",
       "      <td> 8.019273e-01</td>\n",
       "      <td>      -0.080379</td>\n",
       "      <td>       0.828611</td>\n",
       "      <td>       0.878131</td>\n",
       "      <td>       0.934470</td>\n",
       "      <td>       0.901839</td>\n",
       "      <td>       0.835534</td>\n",
       "      <td>       0.914251</td>\n",
       "      <td>       1.094396</td>\n",
       "      <td> 1.672500e-01</td>\n",
       "    </tr>\n",
       "    <tr>\n",
       "      <th>75%</th>\n",
       "      <td>       1.000000</td>\n",
       "      <td>       1.204413</td>\n",
       "      <td>       0.757649</td>\n",
       "      <td>       0.867098</td>\n",
       "      <td>       1.162353</td>\n",
       "      <td>       0.769230</td>\n",
       "      <td>       0.867478</td>\n",
       "      <td>       1.207444</td>\n",
       "      <td>       0.868762</td>\n",
       "      <td> 1.375392e+00</td>\n",
       "      <td>       0.348901</td>\n",
       "      <td>       1.211083</td>\n",
       "      <td>       1.220313</td>\n",
       "      <td>       1.283522</td>\n",
       "      <td>       1.613231</td>\n",
       "      <td>       1.207994</td>\n",
       "      <td>       1.384583</td>\n",
       "      <td>       1.369183</td>\n",
       "      <td> 3.303652e-01</td>\n",
       "    </tr>\n",
       "    <tr>\n",
       "      <th>max</th>\n",
       "      <td>       1.000000</td>\n",
       "      <td>      20.553450</td>\n",
       "      <td>       2.101605</td>\n",
       "      <td>       1.734839</td>\n",
       "      <td>      33.035622</td>\n",
       "      <td>       2.059721</td>\n",
       "      <td>       1.734686</td>\n",
       "      <td>      21.068876</td>\n",
       "      <td>       1.740689</td>\n",
       "      <td> 2.338644e+01</td>\n",
       "      <td>      20.487904</td>\n",
       "      <td>      21.075718</td>\n",
       "      <td>      16.166821</td>\n",
       "      <td>       6.731210</td>\n",
       "      <td>      20.686245</td>\n",
       "      <td>      21.152262</td>\n",
       "      <td>      15.613705</td>\n",
       "      <td>       1.591660</td>\n",
       "      <td> 1.000000e+00</td>\n",
       "    </tr>\n",
       "  </tbody>\n",
       "</table>\n",
       "</div>"
      ],
      "text/plain": [
       "               target     lepton 1 pT    lepton 1 eta    lepton 1 phi  \\\n",
       "count  5000000.000000  5000000.000000  5000000.000000  5000000.000000   \n",
       "mean         0.457565        1.000318        0.000022       -0.000050   \n",
       "std          0.498196        0.687334        1.003107        1.001670   \n",
       "min          0.000000        0.254882       -2.102927       -1.734789   \n",
       "25%          0.000000        0.562484       -0.757351       -0.867357   \n",
       "50%          0.000000        0.791551        0.000134       -0.000388   \n",
       "75%          1.000000        1.204413        0.757649        0.867098   \n",
       "max          1.000000       20.553450        2.101605        1.734839   \n",
       "\n",
       "          lepton 2 pT    lepton 2 eta    lepton 2 phi  \\\n",
       "count  5000000.000000  5000000.000000  5000000.000000   \n",
       "mean         0.999430       -0.000037       -0.000020   \n",
       "std          0.654220        1.002839        1.001631   \n",
       "min          0.428586       -2.059306       -1.734202   \n",
       "25%          0.596988       -0.769592       -0.868374   \n",
       "50%          0.799799       -0.000379        0.000201   \n",
       "75%          1.162353        0.769230        0.867478   \n",
       "max         33.035622        2.059721        1.734686   \n",
       "\n",
       "       missing energy magnitude  missing energy phi       MET_rel  \\\n",
       "count            5000000.000000      5000000.000000  5.000000e+06   \n",
       "mean                   0.999974            0.000035  1.001437e+00   \n",
       "std                    0.872888            1.001654  8.901668e-01   \n",
       "min                    0.000260           -1.727117  7.693475e-08   \n",
       "25%                    0.478455           -0.866151  3.691849e-01   \n",
       "50%                    0.773836           -0.009173  8.019273e-01   \n",
       "75%                    1.207444            0.868762  1.375392e+00   \n",
       "max                   21.068876            1.740689  2.338644e+01   \n",
       "\n",
       "            axial MET             M_R          M_TR_2               R  \\\n",
       "count  5000000.000000  5000000.000000  5000000.000000  5000000.000000   \n",
       "mean        -0.000049        1.000360        0.999956        0.999916   \n",
       "std          1.001594        0.628845        0.584114        0.470841   \n",
       "min        -16.718634        0.267307        0.001041        0.002048   \n",
       "25%         -0.492398        0.588329        0.622341        0.650544   \n",
       "50%         -0.080379        0.828611        0.878131        0.934470   \n",
       "75%          0.348901        1.211083        1.220313        1.283522   \n",
       "max         20.487904       21.075718       16.166821        6.731210   \n",
       "\n",
       "                  MT2             S_R       M_Delta_R        dPhi_r_b  \\\n",
       "count  5000000.000000  5000000.000000  5000000.000000  5000000.000000   \n",
       "mean         1.000422        1.000112        1.000192        0.999485   \n",
       "std          0.859249        0.620716        0.623767        0.436095   \n",
       "min          0.000000        0.027341        0.004453        0.000000   \n",
       "25%          0.170522        0.598521        0.513439        0.687913   \n",
       "50%          0.901839        0.835534        0.914251        1.094396   \n",
       "75%          1.613231        1.207994        1.384583        1.369183   \n",
       "max         20.686245       21.152262       15.613705        1.591660   \n",
       "\n",
       "       cos(theta_r1)  \n",
       "count   5.000000e+06  \n",
       "mean    2.249139e-01  \n",
       "std     1.969804e-01  \n",
       "min     4.172130e-08  \n",
       "25%     6.908188e-02  \n",
       "50%     1.672500e-01  \n",
       "75%     3.303652e-01  \n",
       "max     1.000000e+00  "
      ]
     },
     "execution_count": 3,
     "metadata": {},
     "output_type": "execute_result"
    }
   ],
   "source": [
    "df.describe()"
   ]
  },
  {
   "cell_type": "code",
   "execution_count": 22,
   "metadata": {
    "collapsed": false,
    "slideshow": {
     "slide_type": "subslide"
    }
   },
   "outputs": [
    {
     "data": {
      "image/png": "[encoded data removed]",
      "text/plain": [
       "<matplotlib.figure.Figure at 0x7facb0088ad0>"
      ]
     },
     "metadata": {},
     "output_type": "display_data"
    }
   ],
   "source": [
    "df_sample = df[:10000]\n",
    "colors = [\"blue\",  # 0 = background\n",
    "          \"red\"]   # 1 = signal\n",
    "features = [\"lepton 1 pT\", \"missing energy magnitude\", \"R\"]\n",
    "\n",
    "_ = pd.scatter_matrix(df_sample[features], marker=\"x\", \n",
    "                      c=df_sample.target.apply(lambda x: colors[x]))"
   ]
  },
  {
   "cell_type": "markdown",
   "metadata": {},
   "source": [
    "Need more? See `pandas` <a href=\"http://pandas.pydata.org/pandas-docs/stable/visualization.html\">visualization</a> documentation."
   ]
  },
  {
   "cell_type": "markdown",
   "metadata": {
    "slideshow": {
     "slide_type": "subslide"
    }
   },
   "source": [
    "### Supervised learning framework"
   ]
  },
  {
   "cell_type": "code",
   "execution_count": null,
   "metadata": {
    "collapsed": true
   },
   "outputs": [],
   "source": []
  },
  {
   "cell_type": "markdown",
   "metadata": {
    "slideshow": {
     "slide_type": "subslide"
    }
   },
   "source": [
    "### Estimators"
   ]
  },
  {
   "cell_type": "code",
   "execution_count": 73,
   "metadata": {
    "collapsed": false
   },
   "outputs": [
    {
     "data": {
      "text/plain": [
       "RandomForestClassifier(bootstrap=True, class_weight=None, criterion='gini',\n",
       "            max_depth=10, max_features='auto', max_leaf_nodes=None,\n",
       "            min_samples_leaf=1, min_samples_split=2,\n",
       "            min_weight_fraction_leaf=0.0, n_estimators=10, n_jobs=1,\n",
       "            oob_score=False, random_state=None, verbose=0,\n",
       "            warm_start=False)"
      ]
     },
     "execution_count": 73,
     "metadata": {},
     "output_type": "execute_result"
    }
   ],
   "source": [
    "# Import estimator class \n",
    "from sklearn.ensemble import RandomForestClassifier\n",
    "\n",
    "# Set hyper-parameters, for controlling the learning algorithm\n",
    "clf = RandomForestClassifier(max_depth=10)\n",
    "\n",
    "# Learn a model from training data\n",
    "clf.fit(X, y)"
   ]
  },
  {
   "cell_type": "markdown",
   "metadata": {
    "slideshow": {
     "slide_type": "subslide"
    }
   },
   "source": [
    "### Predictors"
   ]
  },
  {
   "cell_type": "code",
   "execution_count": 71,
   "metadata": {
    "collapsed": false
   },
   "outputs": [
    {
     "name": "stdout",
     "output_type": "stream",
     "text": [
      "[0]\n"
     ]
    }
   ],
   "source": [
    "# Make predictions on new data\n",
    "print(clf.predict([[4.1, 4.5, 1.2, 0.3]]))"
   ]
  },
  {
   "cell_type": "code",
   "execution_count": 38,
   "metadata": {
    "collapsed": false
   },
   "outputs": [
    {
     "name": "stdout",
     "output_type": "stream",
     "text": [
      "[[ 1.  0.  0.]]\n"
     ]
    }
   ],
   "source": [
    "# Compute class probabilities\n",
    "print(clf.predict_proba([[4.1, 4.5, 1.2, 0.3]]))"
   ]
  },
  {
   "cell_type": "markdown",
   "metadata": {},
   "source": [
    "## Interpretation\n",
    "\n",
    "- var importances\n",
    "- partial dependence plots"
   ]
  },
  {
   "cell_type": "markdown",
   "metadata": {
    "slideshow": {
     "slide_type": "subslide"
    }
   },
   "source": [
    "## Need another estimator?\n",
    "\n",
    "<center>\n",
    "    <img src=\"img/classifiers.png\" />\n",
    "    Check the Scikit-Learn <a href=\"http://scikit-learn.org/dev/modules/classes.html\">reference API</a>!\n",
    "</center>"
   ]
  },
  {
   "cell_type": "markdown",
   "metadata": {
    "slideshow": {
     "slide_type": "slide"
    }
   },
   "source": [
    "# Model evaluation and selection\n",
    "\n",
    "- Selection versus evaluation\n",
    "- Parameter search\n",
    "- Cross-validation\n",
    "- Under/over-fitting"
   ]
  },
  {
   "cell_type": "markdown",
   "metadata": {
    "slideshow": {
     "slide_type": "subslide"
    }
   },
   "source": [
    "## Selection and evaluation"
   ]
  },
  {
   "cell_type": "markdown",
   "metadata": {},
   "source": [
    "## Cross-validation"
   ]
  },
  {
   "cell_type": "markdown",
   "metadata": {
    "slideshow": {
     "slide_type": "subslide"
    }
   },
   "source": [
    "## Parameter search"
   ]
  },
  {
   "cell_type": "markdown",
   "metadata": {
    "slideshow": {
     "slide_type": "subslide"
    }
   },
   "source": [
    "## Under/over-fitting\n",
    "\n",
    "- plot\n",
    "- regularization"
   ]
  },
  {
   "cell_type": "markdown",
   "metadata": {
    "slideshow": {
     "slide_type": "slide"
    }
   },
   "source": [
    "# Model persistence"
   ]
  },
  {
   "cell_type": "markdown",
   "metadata": {
    "slideshow": {
     "slide_type": "slide"
    }
   },
   "source": [
    "# Unsupervised learning"
   ]
  },
  {
   "cell_type": "markdown",
   "metadata": {
    "slideshow": {
     "slide_type": "subslide"
    }
   },
   "source": [
    "## Clustering"
   ]
  },
  {
   "cell_type": "markdown",
   "metadata": {
    "slideshow": {
     "slide_type": "subslide"
    }
   },
   "source": [
    "## Density estimation"
   ]
  },
  {
   "cell_type": "markdown",
   "metadata": {
    "slideshow": {
     "slide_type": "subslide"
    }
   },
   "source": [
    "## Decomposition"
   ]
  },
  {
   "cell_type": "markdown",
   "metadata": {
    "slideshow": {
     "slide_type": "slide"
    }
   },
   "source": [
    "# Going further\n",
    "\n",
    "- Add references to tutorials, packages, etc"
   ]
  }
 ],
 "metadata": {
  "celltoolbar": "Slideshow",
  "kernelspec": {
   "display_name": "Python 2",
   "language": "python",
   "name": "python2"
  },
  "language_info": {
   "codemirror_mode": {
    "name": "ipython",
    "version": 2
   },
   "file_extension": ".py",
   "mimetype": "text/x-python",
   "name": "python",
   "nbconvert_exporter": "python",
   "pygments_lexer": "ipython2",
   "version": "2.7.9"
  }
 },
 "nbformat": 4,
 "nbformat_minor": 0
}
